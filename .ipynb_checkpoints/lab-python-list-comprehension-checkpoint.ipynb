{
 "cells": [
  {
   "cell_type": "markdown",
   "id": "25d7736c-ba17-4aff-b6bb-66eba20fbf4e",
   "metadata": {},
   "source": [
    "# Lab | List, Dict and Set Comprehension"
   ]
  },
  {
   "cell_type": "markdown",
   "id": "7dd3cbde-675a-4b81-92c3-f728846dbe06",
   "metadata": {},
   "source": [
    "## Exercise: Managing Customer Orders Optimized with Comprehension"
   ]
  },
  {
   "cell_type": "markdown",
   "id": "5d500160-2fb7-4777-b5e4-09d45ebaf328",
   "metadata": {},
   "source": [
    "In the previous exercise, you developed a program to manage customer orders and inventory. Now, let's take it a step further and incorporate comprehension into your code.\n",
    "\n",
    "Follow the steps below to complete the exercise:\n",
    "\n",
    "1. Review your code from the previous exercise and identify areas where you can apply comprehension to simplify and streamline your code. \n",
    "\n",
    "    - *Hint: Apply it to initialize inventory, updating the inventory and printing the updated inventory.*\n",
    "    \n",
    "    - For example, in initializing the inventory, we could have:\n",
    "    \n",
    "        ```python\n",
    "        def initialize_inventory(products):\n",
    "            inventory = {product: int(input(f\"Enter the quantity of {product}s available: \")) for product in products}\n",
    "            return inventory\n",
    "\n",
    "        ```\n",
    "<br>\n",
    "    \n",
    "    \n",
    "2. Modify the function get_customer_orders so it prompts the user to enter the number of customer orders and gathers the product names using a loop and user input. Use comprehension.\n",
    "\n",
    "3. Add a new function to calculate the total price of the customer order. For each product in customer_orders, prompt the user to enter the price of that product. Use comprehension to calculate the total price. Note: assume that the user can only have 1 unit of each product.\n",
    "\n",
    "4. Modify the update_inventory function to remove the product from the inventory if its quantity becomes zero after fulfilling the customer orders. Use comprehension to filter out the products with a quantity of zero from the inventory.\n",
    "\n",
    "5. Print the total price of the customer order.\n",
    "\n",
    "Your code should produce output similar to the following:\n",
    "\n",
    "```python\n",
    "Enter the quantity of t-shirts available:  5\n",
    "Enter the quantity of mugs available:  4\n",
    "Enter the quantity of hats available:  3\n",
    "Enter the quantity of books available:  2\n",
    "Enter the quantity of keychains available:  1\n",
    "Enter the number of customer orders:  2\n",
    "Enter the name of a product that a customer wants to order:  hat\n",
    "Enter the name of a product that a customer wants to order:  keychain\n",
    "\n",
    "Order Statistics:\n",
    "Total Products Ordered: 2\n",
    "Percentage of Unique Products Ordered: 40.0\n",
    "\n",
    "Updated Inventory:\n",
    "t-shirt: 5\n",
    "mug: 4\n",
    "hat: 2\n",
    "book: 2\n",
    "Enter the price of keychain:  5\n",
    "Enter the price of hat:  10\n",
    "Total Price: 15.0\n",
    "\n",
    "```\n"
   ]
  },
  {
   "cell_type": "code",
   "execution_count": 104,
   "id": "05502d4b-2403-462b-bab7-ff1f9db3cabc",
   "metadata": {
    "tags": []
   },
   "outputs": [],
   "source": [
    "products = ['mug','keychain','book','hat','t-shirt']"
   ]
  },
  {
   "cell_type": "code",
   "execution_count": 106,
   "id": "6a227208-4f26-438e-9bd3-a859931e9df6",
   "metadata": {
    "tags": []
   },
   "outputs": [],
   "source": [
    "# initialize inventory\n",
    "def initialize_inventory(products):\n",
    "    inventory = {product: int(input(f\"Enter the quantity of {product}s available: \")) for product in products}\n",
    "    return inventory"
   ]
  },
  {
   "cell_type": "code",
   "execution_count": 110,
   "id": "05ad9bb0-5345-4519-8874-5bc4072d3e3f",
   "metadata": {
    "tags": []
   },
   "outputs": [
    {
     "name": "stdin",
     "output_type": "stream",
     "text": [
      "Enter the quantity of mugs available:  10\n",
      "Enter the quantity of keychains available:  10\n",
      "Enter the quantity of books available:  10\n",
      "Enter the quantity of hats available:  10\n",
      "Enter the quantity of t-shirts available:  10\n"
     ]
    }
   ],
   "source": [
    "inventory = initialize_inventory(products)"
   ]
  },
  {
   "cell_type": "code",
   "execution_count": 112,
   "id": "148494dd-5117-44f3-8f2e-c959e70639c4",
   "metadata": {
    "tags": []
   },
   "outputs": [],
   "source": [
    "def get_customer_orders():\n",
    "    order_num = int(input(\"Please enter the number of customer orders: \"))\n",
    "    if type(order_num) != int:\n",
    "        print(\"Please enter a whole number\")\n",
    "        order_num = input(\"Please enter the number of customer orders: \")\n",
    "    order_status = False\n",
    "    while order_status == False:\n",
    "        customer_orders = [input(\"Enter the product that a customer wants to order: \") for i in range(order_num)]\n",
    "        for i in customer_orders:\n",
    "            if i not in products:\n",
    "                print(f\"I'm sorry we don't have any {i}s, please choose another product: \")\n",
    "                customer_orders.remove(i)\n",
    "            elif len(customer_orders) == order_num: \n",
    "                order_status = True\n",
    "            else:\n",
    "                break\n",
    "    print(f\"Order for {customer_orders} made!\")\n",
    "    return set(customer_orders)"
   ]
  },
  {
   "cell_type": "code",
   "execution_count": 114,
   "id": "b76ffbf0-d16f-4065-92da-567235a863bb",
   "metadata": {
    "tags": []
   },
   "outputs": [
    {
     "name": "stdin",
     "output_type": "stream",
     "text": [
      "Please enter the number of customer orders:  2\n",
      "Enter the product that a customer wants to order:  hat\n",
      "Enter the product that a customer wants to order:  mug\n"
     ]
    },
    {
     "name": "stdout",
     "output_type": "stream",
     "text": [
      "Order for ['hat', 'mug'] made!\n"
     ]
    }
   ],
   "source": [
    "customer_orders = get_customer_orders()"
   ]
  },
  {
   "cell_type": "code",
   "execution_count": 116,
   "id": "29e55b82-7346-4ee5-b14c-4b1aa8b6b5f6",
   "metadata": {
    "tags": []
   },
   "outputs": [],
   "source": [
    "# updating inventory\n",
    "\n",
    "def updating_inventory(customer_orders, inventory):\n",
    "    new_inventory = {key:value-1 if key in customer_orders else value\n",
    "                     for key,value in inventory.items()}\n",
    "    return new_inventory"
   ]
  },
  {
   "cell_type": "code",
   "execution_count": 118,
   "id": "8ab75ed5-f6c4-454d-bc81-79ec8a7bd8e0",
   "metadata": {
    "tags": []
   },
   "outputs": [],
   "source": [
    "# print updated inventory\n",
    "\n",
    "def print_updated_inventory(inventory):\n",
    "    print(\"Updated inventory:\")\n",
    "    for key,value in inventory.items():\n",
    "        print(key,\":\",value)"
   ]
  },
  {
   "cell_type": "code",
   "execution_count": 120,
   "id": "89aa010f-51ca-416b-b6ad-75afdebc0405",
   "metadata": {
    "tags": []
   },
   "outputs": [],
   "source": [
    "inventory = updating_inventory(customer_orders,inventory)"
   ]
  },
  {
   "cell_type": "code",
   "execution_count": 122,
   "id": "e55d2574-ac93-4c38-8121-03ba6010155e",
   "metadata": {
    "tags": []
   },
   "outputs": [
    {
     "name": "stdout",
     "output_type": "stream",
     "text": [
      "Updated inventory:\n",
      "mug : 9\n",
      "keychain : 10\n",
      "book : 10\n",
      "hat : 9\n",
      "t-shirt : 10\n"
     ]
    }
   ],
   "source": [
    "print_updated_inventory(inventory)"
   ]
  },
  {
   "cell_type": "code",
   "execution_count": 124,
   "id": "228c0aa9-3262-4888-b33f-c3ddb7a024c6",
   "metadata": {
    "tags": []
   },
   "outputs": [],
   "source": [
    "new_inventory = {key:value-1 if key in customer_orders else value for key,value in inventory.items()}"
   ]
  },
  {
   "cell_type": "code",
   "execution_count": 126,
   "id": "d3e59077-4bd1-47d3-80a5-06be746ef841",
   "metadata": {
    "tags": []
   },
   "outputs": [],
   "source": [
    "def order_price(customer_orders):\n",
    "    price_list = [int(input(f\"please enter price of {product}: \")) for product in customer_orders]\n",
    "    price_total = sum(price_list)\n",
    "    price = print(\"The order total is: £\", price_total)\n",
    "    return price\n",
    "          "
   ]
  },
  {
   "cell_type": "code",
   "execution_count": 128,
   "id": "90cc432a-ae19-4191-9e0d-6e6fce4f1f26",
   "metadata": {
    "tags": []
   },
   "outputs": [],
   "source": [
    "def calculate_order_statistics(customer_orders, products):\n",
    "    total_products_ordered = len(customer_orders)\n",
    "    pc_products_ordered = round(((len(customer_orders)/len(products))*100),2)\n",
    "    return {\"Total products ordered\" : total_products_ordered, \"Percentage of products ordered\" : pc_products_ordered}"
   ]
  },
  {
   "cell_type": "code",
   "execution_count": 134,
   "id": "e89b6a89-1ea1-489a-9b79-39a164fd6579",
   "metadata": {
    "tags": []
   },
   "outputs": [],
   "source": [
    "def print_order_statistics(order_statistics):\n",
    "     print(\"Order statistics:\",'\\n' \"Total products ordered:\", order_statistics['Total products ordered'], '\\n' \"% of unique products ordered:\", order_statistics['Percentage of products ordered'],\"%\")"
   ]
  },
  {
   "cell_type": "code",
   "execution_count": 132,
   "id": "5302e57a-abac-498c-8a08-46713e98fb87",
   "metadata": {
    "tags": []
   },
   "outputs": [],
   "source": [
    "order_statistics = calculate_order_statistics(customer_orders, products)"
   ]
  },
  {
   "cell_type": "code",
   "execution_count": 136,
   "id": "464f8adf-ec4e-4fc5-8759-2a5b6a98d103",
   "metadata": {
    "tags": []
   },
   "outputs": [
    {
     "name": "stdin",
     "output_type": "stream",
     "text": [
      "Enter the quantity of mugs available:  10\n",
      "Enter the quantity of keychains available:  10\n",
      "Enter the quantity of books available:  10\n",
      "Enter the quantity of t-shirts available:  10\n",
      "Enter the quantity of hats available:  10\n",
      "Please enter the number of customer orders:  2\n",
      "Enter the product that a customer wants to order:  hat\n",
      "Enter the product that a customer wants to order:  mug\n"
     ]
    },
    {
     "name": "stdout",
     "output_type": "stream",
     "text": [
      "Order for ['hat', 'mug'] made!\n",
      "\n",
      "\n",
      "Order statistics: \n",
      "Total products ordered: 2 \n",
      "% of unique products ordered: 40.0 %\n",
      "\n",
      "\n",
      "Updated inventory:\n",
      "mug : 9\n",
      "keychain : 10\n",
      "book : 10\n",
      "t-shirt : 10\n",
      "hat : 9\n"
     ]
    },
    {
     "name": "stdin",
     "output_type": "stream",
     "text": [
      "please enter price of mug:  5\n",
      "please enter price of hat:  5\n"
     ]
    },
    {
     "name": "stdout",
     "output_type": "stream",
     "text": [
      "The order total is: £ 10\n"
     ]
    }
   ],
   "source": [
    "products = ['mug','keychain','book','t-shirt','hat']\n",
    "inventory = initialize_inventory(products)\n",
    "inventory\n",
    "customer_orders = get_customer_orders()\n",
    "order_statistics = calculate_order_statistics(customer_orders, products)\n",
    "print('\\n')\n",
    "print_order_statistics(order_statistics)\n",
    "print('\\n')\n",
    "inventory = updating_inventory(customer_orders,inventory)\n",
    "print_updated_inventory(inventory)\n",
    "order_price(customer_orders)"
   ]
  },
  {
   "cell_type": "code",
   "execution_count": 28,
   "id": "66eb110b-56ea-47fb-872a-826788e7d5fb",
   "metadata": {
    "tags": []
   },
   "outputs": [],
   "source": [
    "##def get_customer_orders():\n",
    "    user_go = False\n",
    "    customer_orders = set()\n",
    "    \n",
    "    while user_go == False:\n",
    "        prod = input(\"Which product would you like to order?\")\n",
    "        if prod in inventory.keys():\n",
    "            customer_orders.add(prod)\n",
    "        elif type(prod) != 'str':\n",
    "            print(\"Please enter a product\")\n",
    "        else:\n",
    "            print(\"I'm sorry, we don't stock that product\")\n",
    "        user_answer = input(\"Would you like to order another product? Yes/No\")\n",
    "        user_answer_lower = user_answer.lower()\n",
    "        answer_good = False\n",
    "        \n",
    "        while answer_good == False:\n",
    "            user_answer_lower = user_answer.lower()\n",
    "            if user_answer_lower == \"yes\" or user_answer_lower == \"no\":\n",
    "                answer_good = True\n",
    "                break\n",
    "            else:\n",
    "                user_answer = input(\"Please enter yes or no! Would you like to order another product?\")\n",
    "        \n",
    "        if user_answer_lower == \"no\":\n",
    "            user_go = True\n",
    "        else:\n",
    "            user_go = False\n",
    "    return customer_orders"
   ]
  }
 ],
 "metadata": {
  "kernelspec": {
   "display_name": "Python 3 (ipykernel)",
   "language": "python",
   "name": "python3"
  },
  "language_info": {
   "codemirror_mode": {
    "name": "ipython",
    "version": 3
   },
   "file_extension": ".py",
   "mimetype": "text/x-python",
   "name": "python",
   "nbconvert_exporter": "python",
   "pygments_lexer": "ipython3",
   "version": "3.11.7"
  }
 },
 "nbformat": 4,
 "nbformat_minor": 5
}
